{
 "cells": [
  {
   "cell_type": "code",
   "execution_count": 1,
   "id": "2e37f34a-0f6e-45ba-9d26-bbf8f112d498",
   "metadata": {},
   "outputs": [],
   "source": [
    "%load_ext autoreload\n",
    "%autoreload 2\n",
    "\n",
    "import logging\n",
    "import requests\n",
    "import json\n",
    "import os\n",
    "import time\n",
    "import pandas as pd\n",
    "import numpy as np\n",
    "\n",
    "wd = os.path.abspath(\"__file__\").replace(\"/__file__\", \"\").replace(\"notebooks\", \"\")\n",
    "os.chdir(wd)\n",
    "\n",
    "import requests\n",
    "from datetime import datetime, timedelta, date\n",
    "from logging.handlers import TimedRotatingFileHandler\n",
    "\n",
    "from src.utils import get_jinja_yaml_conf, create_db_engine, Postgres_connect, send_message_to_discord\n",
    "from src.processing import *\n",
    "from src.api import *\n",
    "\n",
    "now = datetime.now()"
   ]
  },
  {
   "cell_type": "code",
   "execution_count": 2,
   "id": "a87e3ac2-d729-4f5f-95cb-0a5f75030dde",
   "metadata": {},
   "outputs": [],
   "source": [
    "conf = get_jinja_yaml_conf('./conf/webhook.yml', './conf/logging.yml', './conf/data.yml')\n",
    "end_date = datetime.now().date() \n",
    "\n",
    "stream = logging.StreamHandler()\n",
    "stream.setLevel(logging.DEBUG)\n",
    "# logger 설정\n",
    "logger = logging.getLogger('main')\n",
    "logging.basicConfig(level=eval(conf['logging']['level']),\n",
    "    format=conf['logging']['format'],\n",
    "    handlers = [TimedRotatingFileHandler(filename =  conf['logging']['file_name'],\n",
    "                                when=conf['logging']['when'],\n",
    "                                interval=conf['logging']['interval'],\n",
    "                                backupCount=conf['logging']['backupCount']), #logging.StreamHandler()\n",
    "                                   stream]\n",
    "                )\n"
   ]
  },
  {
   "cell_type": "code",
   "execution_count": 3,
   "id": "64d868ee-0d8f-4d55-b093-fc38eb3c16d1",
   "metadata": {},
   "outputs": [],
   "source": [
    "# Only for notebooks\n",
    "import re\n",
    "\n",
    "os.environ['_ts'] = datetime.astimezone(datetime.now()).strftime('%Y-%m-%d %H:%M:%S %z')\n",
    "\n",
    "with open('./conf/credentials', \"r\") as file:\n",
    "    # 각 라인 읽기\n",
    "    for line in file:\n",
    "        # 주석(#) 또는 빈 줄은 무시\n",
    "        if line.strip() == '' or line.startswith('#'):\n",
    "            continue\n",
    "\n",
    "        # 각 라인을 '='를 기준으로 key와 value로 분리\n",
    "        key, value = line.strip().split('=', 1)\n",
    "\n",
    "        # $ENV 형식의 환경변수가 있을 경우 해당 값을 가져와서 설정\n",
    "        env_var_pattern = re.compile(r'\\$(\\w+)')\n",
    "        matches = env_var_pattern.findall(value)\n",
    "        for match in matches:\n",
    "            value = value.replace(f\"${match}\", os.environ.get(match, \"\")).replace('\"', '')\n",
    "\n",
    "        # 환경변수로 설정\n",
    "        os.environ[key] = value"
   ]
  },
  {
   "cell_type": "code",
   "execution_count": 4,
   "id": "c8ad99a5-7ce2-429f-afe7-59971bd842d4",
   "metadata": {},
   "outputs": [
    {
     "name": "stderr",
     "output_type": "stream",
     "text": [
      "2024-04-09 16:42:08,142 (utils.py 75) INFO ::: Connect to 172.20.10.3. DB_NAME is coins\n",
      "2024-04-09 16:42:08,142 (api.py 23) INFO ::: ### Coingecko main api is initialized! ###\n"
     ]
    }
   ],
   "source": [
    "engine = create_db_engine(os.environ)\n",
    "postgres_conn = Postgres_connect(engine)\n",
    "api = Coingecko()"
   ]
  },
  {
   "cell_type": "code",
   "execution_count": 26,
   "id": "d9842bab-e8f5-43e4-9412-957f5123f8bd",
   "metadata": {},
   "outputs": [],
   "source": [
    "conf['data']['daily_coin_info']['max_pages'] = 1"
   ]
  },
  {
   "cell_type": "code",
   "execution_count": 27,
   "id": "ec0a86ee-7f00-499b-97c6-e565c643d2ed",
   "metadata": {},
   "outputs": [
    {
     "name": "stderr",
     "output_type": "stream",
     "text": [
      "2024-03-31 13:56:16,625 (api.py 79) INFO ::: Get daily coin info (1/3)\n",
      "2024-03-31 13:56:16,698 (api.py 48) INFO ::: Exceeded api call rate limit. API call now tries: 1/3; sleep 600 secs.\n",
      "2024-03-31 13:56:16,698 (api.py 49) INFO ::: {\"status\":{\"error_code\":429,\"error_message\":\"You've exceeded the Rate Limit. Please visit https://www.coingecko.com/en/api/pricing to subscribe to our API plans for higher rate limits.\"}}\n"
     ]
    },
    {
     "ename": "KeyboardInterrupt",
     "evalue": "",
     "output_type": "error",
     "traceback": [
      "\u001b[0;31m---------------------------------------------------------------------------\u001b[0m",
      "\u001b[0;31mKeyboardInterrupt\u001b[0m                         Traceback (most recent call last)",
      "Cell \u001b[0;32mIn[27], line 1\u001b[0m\n\u001b[0;32m----> 1\u001b[0m \u001b[43mprocessing_daily_coin_info\u001b[49m\u001b[43m(\u001b[49m\u001b[43mpostgres_conn\u001b[49m\u001b[43m,\u001b[49m\u001b[43m \u001b[49m\u001b[43mapi\u001b[49m\u001b[43m,\u001b[49m\u001b[43m \u001b[49m\u001b[43mconf\u001b[49m\u001b[43m[\u001b[49m\u001b[38;5;124;43m'\u001b[39;49m\u001b[38;5;124;43mdata\u001b[39;49m\u001b[38;5;124;43m'\u001b[39;49m\u001b[43m]\u001b[49m\u001b[43m[\u001b[49m\u001b[38;5;124;43m'\u001b[39;49m\u001b[38;5;124;43mdaily_coin_info\u001b[39;49m\u001b[38;5;124;43m'\u001b[39;49m\u001b[43m]\u001b[49m\u001b[43m,\u001b[49m\u001b[43m \u001b[49m\u001b[43mconf\u001b[49m\u001b[43m[\u001b[49m\u001b[38;5;124;43m'\u001b[39;49m\u001b[38;5;124;43mwebhook\u001b[39;49m\u001b[38;5;124;43m'\u001b[39;49m\u001b[43m]\u001b[49m\u001b[43m)\u001b[49m\n",
      "File \u001b[0;32m/projects/data_collection/coins/coingecko/src/processing.py:15\u001b[0m, in \u001b[0;36mprocessing_daily_coin_info\u001b[0;34m(db_conn, api, conf_daily_coin, conf_webhook)\u001b[0m\n\u001b[1;32m     13\u001b[0m \u001b[38;5;28;01mdef\u001b[39;00m \u001b[38;5;21mprocessing_daily_coin_info\u001b[39m(db_conn, api, conf_daily_coin, conf_webhook):\n\u001b[0;32m---> 15\u001b[0m     data \u001b[38;5;241m=\u001b[39m \u001b[43mapi\u001b[49m\u001b[38;5;241;43m.\u001b[39;49m\u001b[43mget_daily_coin_info\u001b[49m\u001b[43m(\u001b[49m\u001b[43mparams\u001b[49m\u001b[43m \u001b[49m\u001b[38;5;241;43m=\u001b[39;49m\u001b[43m \u001b[49m\u001b[43mconf_daily_coin\u001b[49m\u001b[43m[\u001b[49m\u001b[38;5;124;43m'\u001b[39;49m\u001b[38;5;124;43mparams\u001b[39;49m\u001b[38;5;124;43m'\u001b[39;49m\u001b[43m]\u001b[49m\u001b[43m,\u001b[49m\u001b[43m \u001b[49m\n\u001b[1;32m     16\u001b[0m \u001b[43m                               \u001b[49m\u001b[43mrename\u001b[49m\u001b[43m \u001b[49m\u001b[38;5;241;43m=\u001b[39;49m\u001b[43m \u001b[49m\u001b[43mconf_daily_coin\u001b[49m\u001b[43m[\u001b[49m\u001b[38;5;124;43m'\u001b[39;49m\u001b[38;5;124;43mrename\u001b[39;49m\u001b[38;5;124;43m'\u001b[39;49m\u001b[43m]\u001b[49m\u001b[43m,\u001b[49m\u001b[43m \u001b[49m\n\u001b[1;32m     17\u001b[0m \u001b[43m                               \u001b[49m\u001b[43mmax_pages\u001b[49m\u001b[43m \u001b[49m\u001b[38;5;241;43m=\u001b[39;49m\u001b[43m \u001b[49m\u001b[43mconf_daily_coin\u001b[49m\u001b[43m[\u001b[49m\u001b[38;5;124;43m'\u001b[39;49m\u001b[38;5;124;43mmax_pages\u001b[39;49m\u001b[38;5;124;43m'\u001b[39;49m\u001b[43m]\u001b[49m\u001b[43m)\u001b[49m\n\u001b[1;32m     21\u001b[0m     data[\u001b[38;5;124m'\u001b[39m\u001b[38;5;124mroi\u001b[39m\u001b[38;5;124m'\u001b[39m] \u001b[38;5;241m=\u001b[39m data[\u001b[38;5;124m'\u001b[39m\u001b[38;5;124mroi\u001b[39m\u001b[38;5;124m'\u001b[39m]\u001b[38;5;241m.\u001b[39mmap(\u001b[38;5;28;01mlambda\u001b[39;00m x: json\u001b[38;5;241m.\u001b[39mdumps(x) \u001b[38;5;28;01mif\u001b[39;00m \u001b[38;5;28mtype\u001b[39m(x) \u001b[38;5;129;01mis\u001b[39;00m \u001b[38;5;28mdict\u001b[39m \u001b[38;5;28;01melse\u001b[39;00m x)\n\u001b[1;32m     22\u001b[0m     data[\u001b[38;5;124m'\u001b[39m\u001b[38;5;124mvolume_rank\u001b[39m\u001b[38;5;124m'\u001b[39m] \u001b[38;5;241m=\u001b[39m data[\u001b[38;5;124m'\u001b[39m\u001b[38;5;124mtotal_volume\u001b[39m\u001b[38;5;124m'\u001b[39m]\u001b[38;5;241m.\u001b[39mrank(ascending \u001b[38;5;241m=\u001b[39m \u001b[38;5;28;01mFalse\u001b[39;00m)\n",
      "File \u001b[0;32m/projects/data_collection/coins/coingecko/src/api.py:81\u001b[0m, in \u001b[0;36mCoingecko.get_daily_coin_info\u001b[0;34m(self, detail_url, max_pages, params, rename, sleep, max_retries)\u001b[0m\n\u001b[1;32m     79\u001b[0m     logger\u001b[38;5;241m.\u001b[39minfo(\u001b[38;5;124mf\u001b[39m\u001b[38;5;124m\"\u001b[39m\u001b[38;5;124mGet daily coin info (\u001b[39m\u001b[38;5;132;01m{\u001b[39;00mpage\u001b[38;5;132;01m}\u001b[39;00m\u001b[38;5;124m/\u001b[39m\u001b[38;5;132;01m{\u001b[39;00mmax_pages\u001b[38;5;132;01m}\u001b[39;00m\u001b[38;5;124m)\u001b[39m\u001b[38;5;124m\"\u001b[39m)\n\u001b[1;32m     80\u001b[0m     params[\u001b[38;5;124m'\u001b[39m\u001b[38;5;124mpage\u001b[39m\u001b[38;5;124m'\u001b[39m] \u001b[38;5;241m=\u001b[39m page\n\u001b[0;32m---> 81\u001b[0m     data \u001b[38;5;241m=\u001b[39m pd\u001b[38;5;241m.\u001b[39mconcat([data, \u001b[38;5;28;43mself\u001b[39;49m\u001b[38;5;241;43m.\u001b[39;49m\u001b[43mget_data\u001b[49m\u001b[43m(\u001b[49m\u001b[43mdetail_url\u001b[49m\u001b[43m,\u001b[49m\u001b[43m \u001b[49m\u001b[43mparams\u001b[49m\u001b[43m,\u001b[49m\u001b[43m \u001b[49m\u001b[43mrename\u001b[49m\u001b[43m \u001b[49m\u001b[38;5;241;43m=\u001b[39;49m\u001b[43m \u001b[49m\u001b[43mrename\u001b[49m\u001b[43m,\u001b[49m\u001b[43m \u001b[49m\u001b[43msleep\u001b[49m\u001b[43m \u001b[49m\u001b[38;5;241;43m=\u001b[39;49m\u001b[43m \u001b[49m\u001b[43msleep\u001b[49m\u001b[43m,\u001b[49m\u001b[43m \u001b[49m\u001b[43mmax_retries\u001b[49m\u001b[43m \u001b[49m\u001b[38;5;241;43m=\u001b[39;49m\u001b[43m \u001b[49m\u001b[43mmax_retries\u001b[49m\u001b[43m)\u001b[49m])\n\u001b[1;32m     82\u001b[0m \u001b[38;5;28;01mreturn\u001b[39;00m data\n",
      "File \u001b[0;32m/projects/data_collection/coins/coingecko/src/api.py:61\u001b[0m, in \u001b[0;36mCoingecko.get_data\u001b[0;34m(self, detail_url, params, _ts, rename, sleep, max_retries)\u001b[0m\n\u001b[1;32m     58\u001b[0m \u001b[38;5;28;01mdef\u001b[39;00m \u001b[38;5;21mget_data\u001b[39m(\u001b[38;5;28mself\u001b[39m, detail_url, params \u001b[38;5;241m=\u001b[39m {}, _ts \u001b[38;5;241m=\u001b[39m datetime\u001b[38;5;241m.\u001b[39mastimezone(datetime\u001b[38;5;241m.\u001b[39mnow()), rename \u001b[38;5;241m=\u001b[39m \u001b[38;5;28;01mNone\u001b[39;00m, sleep \u001b[38;5;241m=\u001b[39m \u001b[38;5;241m60\u001b[39m, max_retries \u001b[38;5;241m=\u001b[39m \u001b[38;5;241m30\u001b[39m):\n\u001b[1;32m     59\u001b[0m     data \u001b[38;5;241m=\u001b[39m pd\u001b[38;5;241m.\u001b[39mDataFrame()\n\u001b[0;32m---> 61\u001b[0m     data \u001b[38;5;241m=\u001b[39m pd\u001b[38;5;241m.\u001b[39mDataFrame(json\u001b[38;5;241m.\u001b[39mloads(\u001b[38;5;28;43mself\u001b[39;49m\u001b[38;5;241;43m.\u001b[39;49m\u001b[43mget_api_data\u001b[49m\u001b[43m(\u001b[49m\u001b[43mdetail_url\u001b[49m\u001b[43m,\u001b[49m\u001b[43m \u001b[49m\u001b[43mparams\u001b[49m\u001b[43m,\u001b[49m\u001b[43m \u001b[49m\u001b[43msleep\u001b[49m\u001b[43m \u001b[49m\u001b[38;5;241;43m=\u001b[39;49m\u001b[43m \u001b[49m\u001b[43msleep\u001b[49m\u001b[43m,\u001b[49m\u001b[43m \u001b[49m\u001b[43mmax_retries\u001b[49m\u001b[43m \u001b[49m\u001b[38;5;241;43m=\u001b[39;49m\u001b[43m \u001b[49m\u001b[43mmax_retries\u001b[49m\u001b[43m)\u001b[49m\u001b[38;5;241m.\u001b[39mtext\n\u001b[1;32m     62\u001b[0m                                   )\n\u001b[1;32m     63\u001b[0m                        )\n\u001b[1;32m     65\u001b[0m     \u001b[38;5;28;01mif\u001b[39;00m data\u001b[38;5;241m.\u001b[39mshape[\u001b[38;5;241m0\u001b[39m] \u001b[38;5;241m==\u001b[39m \u001b[38;5;241m0\u001b[39m:\n\u001b[1;32m     66\u001b[0m         \u001b[38;5;28;01mreturn\u001b[39;00m pd\u001b[38;5;241m.\u001b[39mDataFrame()\n",
      "File \u001b[0;32m/projects/data_collection/coins/coingecko/src/api.py:50\u001b[0m, in \u001b[0;36mCoingecko.get_api_data\u001b[0;34m(self, detail_url, params, max_retries, sleep)\u001b[0m\n\u001b[1;32m     48\u001b[0m     logger\u001b[38;5;241m.\u001b[39minfo(\u001b[38;5;124mf\u001b[39m\u001b[38;5;124m\"\u001b[39m\u001b[38;5;124mExceeded api call rate limit. API call now tries: \u001b[39m\u001b[38;5;132;01m{\u001b[39;00mtries\u001b[38;5;132;01m}\u001b[39;00m\u001b[38;5;124m/\u001b[39m\u001b[38;5;132;01m{\u001b[39;00mmax_retries\u001b[38;5;132;01m}\u001b[39;00m\u001b[38;5;124m; sleep \u001b[39m\u001b[38;5;132;01m{\u001b[39;00msleep\u001b[38;5;132;01m}\u001b[39;00m\u001b[38;5;124m secs.\u001b[39m\u001b[38;5;124m\"\u001b[39m)\n\u001b[1;32m     49\u001b[0m     logger\u001b[38;5;241m.\u001b[39minfo(res\u001b[38;5;241m.\u001b[39mtext)\n\u001b[0;32m---> 50\u001b[0m     \u001b[43mtime\u001b[49m\u001b[38;5;241;43m.\u001b[39;49m\u001b[43msleep\u001b[49m\u001b[43m(\u001b[49m\u001b[43msleep\u001b[49m\u001b[43m)\u001b[49m\n\u001b[1;32m     51\u001b[0m     \u001b[38;5;28;01mcontinue\u001b[39;00m\n\u001b[1;32m     53\u001b[0m \u001b[38;5;28;01mreturn\u001b[39;00m res\n",
      "\u001b[0;31mKeyboardInterrupt\u001b[0m: "
     ]
    }
   ],
   "source": [
    "processing_daily_coin_info(postgres_conn, api, conf['data']['daily_coin_info'], conf['webhook'])"
   ]
  },
  {
   "cell_type": "code",
   "execution_count": null,
   "id": "0766f718-ae1f-409c-9402-de66632f980f",
   "metadata": {},
   "outputs": [],
   "source": [
    "detail_url = conf_nfts_list['url'], params = conf_nfts_list['params']"
   ]
  },
  {
   "cell_type": "code",
   "execution_count": 5,
   "id": "1e28a499-d495-4b74-89c6-b03c80fbecd8",
   "metadata": {},
   "outputs": [
    {
     "data": {
      "text/plain": [
       "{'per_page': 250}"
      ]
     },
     "execution_count": 5,
     "metadata": {},
     "output_type": "execute_result"
    }
   ],
   "source": [
    "conf['data']['nfts_list']['params']"
   ]
  },
  {
   "cell_type": "code",
   "execution_count": 7,
   "id": "09305022-70fe-402f-8707-56953b1b9e15",
   "metadata": {},
   "outputs": [
    {
     "data": {
      "text/html": [
       "<div>\n",
       "<style scoped>\n",
       "    .dataframe tbody tr th:only-of-type {\n",
       "        vertical-align: middle;\n",
       "    }\n",
       "\n",
       "    .dataframe tbody tr th {\n",
       "        vertical-align: top;\n",
       "    }\n",
       "\n",
       "    .dataframe thead th {\n",
       "        text-align: right;\n",
       "    }\n",
       "</style>\n",
       "<table border=\"1\" class=\"dataframe\">\n",
       "  <thead>\n",
       "    <tr style=\"text-align: right;\">\n",
       "      <th></th>\n",
       "      <th>id</th>\n",
       "      <th>contract_address</th>\n",
       "      <th>name</th>\n",
       "      <th>asset_platform_id</th>\n",
       "      <th>symbol</th>\n",
       "      <th>_ts</th>\n",
       "    </tr>\n",
       "  </thead>\n",
       "  <tbody>\n",
       "    <tr>\n",
       "      <th>0</th>\n",
       "      <td>squiggly</td>\n",
       "      <td>0x36F379400DE6c6BCDF4408B282F8b685c56adc60</td>\n",
       "      <td>Squiggly</td>\n",
       "      <td>ethereum</td>\n",
       "      <td>~~</td>\n",
       "      <td>2024-04-09 16:42:07.533427+09:00</td>\n",
       "    </tr>\n",
       "    <tr>\n",
       "      <th>1</th>\n",
       "      <td>voxelglyph</td>\n",
       "      <td>0xa94161fbe69e08ff5a36dfafa61bdf29dd2fb928</td>\n",
       "      <td>Voxelglyph</td>\n",
       "      <td>ethereum</td>\n",
       "      <td>#</td>\n",
       "      <td>2024-04-09 16:42:07.533427+09:00</td>\n",
       "    </tr>\n",
       "    <tr>\n",
       "      <th>2</th>\n",
       "      <td>autoglyphs</td>\n",
       "      <td>0xd4e4078ca3495de5b1d4db434bebc5a986197782</td>\n",
       "      <td>Autoglyphs</td>\n",
       "      <td>ethereum</td>\n",
       "      <td>☵</td>\n",
       "      <td>2024-04-09 16:42:07.533427+09:00</td>\n",
       "    </tr>\n",
       "    <tr>\n",
       "      <th>3</th>\n",
       "      <td>spacepunksclub</td>\n",
       "      <td>0x45db714f24f5a313569c41683047f1d49e78ba07</td>\n",
       "      <td>SpacePunksClub</td>\n",
       "      <td>ethereum</td>\n",
       "      <td>⚇</td>\n",
       "      <td>2024-04-09 16:42:07.533427+09:00</td>\n",
       "    </tr>\n",
       "    <tr>\n",
       "      <th>4</th>\n",
       "      <td>meebits</td>\n",
       "      <td>0x7Bd29408f11D2bFC23c34f18275bBf23bB716Bc7</td>\n",
       "      <td>Meebits</td>\n",
       "      <td>ethereum</td>\n",
       "      <td>⚇</td>\n",
       "      <td>2024-04-09 16:42:07.533427+09:00</td>\n",
       "    </tr>\n",
       "    <tr>\n",
       "      <th>...</th>\n",
       "      <td>...</td>\n",
       "      <td>...</td>\n",
       "      <td>...</td>\n",
       "      <td>...</td>\n",
       "      <td>...</td>\n",
       "      <td>...</td>\n",
       "    </tr>\n",
       "    <tr>\n",
       "      <th>245</th>\n",
       "      <td>the-sandbox-assets</td>\n",
       "      <td>0xa342f5d851e866e18ff98f351f2c6637f4478db5</td>\n",
       "      <td>The Sandbox ASSETS</td>\n",
       "      <td>ethereum</td>\n",
       "      <td>ASSET</td>\n",
       "      <td>2024-04-09 16:42:07.533427+09:00</td>\n",
       "    </tr>\n",
       "    <tr>\n",
       "      <th>246</th>\n",
       "      <td>assetdash-vanta</td>\n",
       "      <td></td>\n",
       "      <td>AssetDash Vanta</td>\n",
       "      <td>solana</td>\n",
       "      <td>ASSETDASH VANTA</td>\n",
       "      <td>2024-04-09 16:42:07.533427+09:00</td>\n",
       "    </tr>\n",
       "    <tr>\n",
       "      <th>247</th>\n",
       "      <td>the-association</td>\n",
       "      <td>0x9b8b9c7c02be0bd0aa4d669bf6a1f6003424c6dc</td>\n",
       "      <td>The Association</td>\n",
       "      <td>ethereum</td>\n",
       "      <td>ASSOC</td>\n",
       "      <td>2024-04-09 16:42:07.533427+09:00</td>\n",
       "    </tr>\n",
       "    <tr>\n",
       "      <th>248</th>\n",
       "      <td>astral-babes</td>\n",
       "      <td>29b65f763b01fc7304e9f2325c6c02b47e128009e58102...</td>\n",
       "      <td>Astral Babes</td>\n",
       "      <td>ordinals</td>\n",
       "      <td>ASTRAL-BABES</td>\n",
       "      <td>2024-04-09 16:42:07.533427+09:00</td>\n",
       "    </tr>\n",
       "    <tr>\n",
       "      <th>249</th>\n",
       "      <td>astral-chads</td>\n",
       "      <td>32f4f6c921d2ddf8a36298d61fbc20a4e7a92d4c226f0e...</td>\n",
       "      <td>Astral Chads</td>\n",
       "      <td>ordinals</td>\n",
       "      <td>ASTRALCHADS</td>\n",
       "      <td>2024-04-09 16:42:07.533427+09:00</td>\n",
       "    </tr>\n",
       "  </tbody>\n",
       "</table>\n",
       "<p>250 rows × 6 columns</p>\n",
       "</div>"
      ],
      "text/plain": [
       "                     id                                   contract_address  \\\n",
       "0              squiggly         0x36F379400DE6c6BCDF4408B282F8b685c56adc60   \n",
       "1            voxelglyph         0xa94161fbe69e08ff5a36dfafa61bdf29dd2fb928   \n",
       "2            autoglyphs         0xd4e4078ca3495de5b1d4db434bebc5a986197782   \n",
       "3        spacepunksclub         0x45db714f24f5a313569c41683047f1d49e78ba07   \n",
       "4               meebits         0x7Bd29408f11D2bFC23c34f18275bBf23bB716Bc7   \n",
       "..                  ...                                                ...   \n",
       "245  the-sandbox-assets         0xa342f5d851e866e18ff98f351f2c6637f4478db5   \n",
       "246     assetdash-vanta                                                      \n",
       "247     the-association         0x9b8b9c7c02be0bd0aa4d669bf6a1f6003424c6dc   \n",
       "248        astral-babes  29b65f763b01fc7304e9f2325c6c02b47e128009e58102...   \n",
       "249        astral-chads  32f4f6c921d2ddf8a36298d61fbc20a4e7a92d4c226f0e...   \n",
       "\n",
       "                   name asset_platform_id           symbol  \\\n",
       "0              Squiggly          ethereum               ~~   \n",
       "1            Voxelglyph          ethereum                #   \n",
       "2            Autoglyphs          ethereum                ☵   \n",
       "3        SpacePunksClub          ethereum                ⚇   \n",
       "4               Meebits          ethereum                ⚇   \n",
       "..                  ...               ...              ...   \n",
       "245  The Sandbox ASSETS          ethereum            ASSET   \n",
       "246     AssetDash Vanta            solana  ASSETDASH VANTA   \n",
       "247     The Association          ethereum            ASSOC   \n",
       "248        Astral Babes          ordinals     ASTRAL-BABES   \n",
       "249        Astral Chads          ordinals      ASTRALCHADS   \n",
       "\n",
       "                                 _ts  \n",
       "0   2024-04-09 16:42:07.533427+09:00  \n",
       "1   2024-04-09 16:42:07.533427+09:00  \n",
       "2   2024-04-09 16:42:07.533427+09:00  \n",
       "3   2024-04-09 16:42:07.533427+09:00  \n",
       "4   2024-04-09 16:42:07.533427+09:00  \n",
       "..                               ...  \n",
       "245 2024-04-09 16:42:07.533427+09:00  \n",
       "246 2024-04-09 16:42:07.533427+09:00  \n",
       "247 2024-04-09 16:42:07.533427+09:00  \n",
       "248 2024-04-09 16:42:07.533427+09:00  \n",
       "249 2024-04-09 16:42:07.533427+09:00  \n",
       "\n",
       "[250 rows x 6 columns]"
      ]
     },
     "execution_count": 7,
     "metadata": {},
     "output_type": "execute_result"
    }
   ],
   "source": [
    "api.get_data(conf['data']['nfts_list']['url'], params = conf['data']['nfts_list']['params']).drop_duplicates()"
   ]
  }
 ],
 "metadata": {
  "kernelspec": {
   "display_name": "Python 3 (ipykernel)",
   "language": "python",
   "name": "python3"
  },
  "language_info": {
   "codemirror_mode": {
    "name": "ipython",
    "version": 3
   },
   "file_extension": ".py",
   "mimetype": "text/x-python",
   "name": "python",
   "nbconvert_exporter": "python",
   "pygments_lexer": "ipython3",
   "version": "3.12.2"
  }
 },
 "nbformat": 4,
 "nbformat_minor": 5
}
